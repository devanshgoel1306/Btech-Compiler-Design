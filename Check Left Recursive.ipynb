{
 "cells": [
  {
   "cell_type": "code",
   "execution_count": 51,
   "id": "4f25c6c8",
   "metadata": {},
   "outputs": [
    {
     "data": {
      "text/plain": [
       "\"\\nLeft Recursive Grammar\\nA grammar is left-recursive if we can find some non-terminal 'A' which will eventually derive a \\nform with itself as the left symbol.\\nEx- A->AB/a\\n    B->b\\n    Here, A->AB rule is causing left-recursion.\\n\""
      ]
     },
     "execution_count": 51,
     "metadata": {},
     "output_type": "execute_result"
    }
   ],
   "source": [
    "'''\n",
    "Left Recursive Grammar\n",
    "A grammar is left-recursive if we can find some non-terminal 'A' which will eventually derive a \n",
    "form with itself as the left symbol.\n",
    "Ex- A->AB/a\n",
    "    B->b\n",
    "    Here, A->AB rule is causing left-recursion.\n",
    "'''"
   ]
  },
  {
   "cell_type": "code",
   "execution_count": null,
   "id": "a8825358",
   "metadata": {},
   "outputs": [
    {
     "name": "stdout",
     "output_type": "stream",
     "text": [
      "no. of non-terminals: 3\n",
      "Enter grammar rules: \n",
      "E->E+T/T\n"
     ]
    }
   ],
   "source": [
    "#input no. of non-terminals or no. of grammar rules in compact form\n",
    "n_term= int(input('no. of non-terminals: '))\n",
    "\n",
    "#input grammar rules\n",
    "print('Enter grammar rules: ')\n",
    "grammar_rule= list()\n",
    "for i in range(n_term):\n",
    "    rule= input()\n",
    "    grammar_rule.append(rule)"
   ]
  },
  {
   "cell_type": "code",
   "execution_count": null,
   "id": "a7bf2742",
   "metadata": {},
   "outputs": [],
   "source": [
    "def separating(grammar_rule):\n",
    "    separated= list()\n",
    "    \n",
    "    #separating lhs and rhs\n",
    "    for i in range(n_term):\n",
    "        lhs,rhs= grammar_rule[i].split('->')\n",
    "        separated.append([lhs,rhs])\n",
    "    #print(separated)\n",
    "    \n",
    "    #separating the rule for each non-terminal\n",
    "    for i in range(n_term):\n",
    "        rule= separated[i][1].split('/')\n",
    "        separated[i][1]= rule\n",
    "\n",
    "    return separated"
   ]
  },
  {
   "cell_type": "code",
   "execution_count": null,
   "id": "bbb6487f",
   "metadata": {},
   "outputs": [],
   "source": [
    "separated= separating(grammar_rule)\n",
    "print(separated)"
   ]
  },
  {
   "cell_type": "code",
   "execution_count": null,
   "id": "84ec7a8b",
   "metadata": {},
   "outputs": [],
   "source": [
    "#function to check left recursive grammar\n",
    "def check_left_rec(grammar_rule):\n",
    "    \n",
    "    flag= 1\n",
    "    \n",
    "    #traversing rules of each non-terminal\n",
    "    for i in range(n_term):\n",
    "        #traversing possible rule for ith non-terminal\n",
    "        for j in range(len(grammar_rule[i][1])):\n",
    "            #comparing the ith non-terminal with first character\n",
    "            #of its possible grmmar rules\n",
    "            if grammar_rule[i][0]==grammar_rule[i][1][j][0]:\n",
    "                if flag==1:\n",
    "                    print('Grammar is left-recursive\\nLeft Recursive rules are')\n",
    "                    flag=0\n",
    "                    \n",
    "                print(grammar_rule[i][0]+'->'+grammar_rule[i][1][j])\n",
    "                \n",
    "    if flag==1:\n",
    "        print('Grammar is not left-recursive.')"
   ]
  },
  {
   "cell_type": "code",
   "execution_count": null,
   "id": "0d57d48a",
   "metadata": {},
   "outputs": [],
   "source": [
    "check_left_rec(separated)"
   ]
  }
 ],
 "metadata": {
  "kernelspec": {
   "display_name": "Python 3 (ipykernel)",
   "language": "python",
   "name": "python3"
  },
  "language_info": {
   "codemirror_mode": {
    "name": "ipython",
    "version": 3
   },
   "file_extension": ".py",
   "mimetype": "text/x-python",
   "name": "python",
   "nbconvert_exporter": "python",
   "pygments_lexer": "ipython3",
   "version": "3.7.11"
  }
 },
 "nbformat": 4,
 "nbformat_minor": 5
}
