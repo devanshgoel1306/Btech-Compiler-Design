{
 "cells": [
  {
   "cell_type": "code",
   "execution_count": 11,
   "id": "e069c1b2",
   "metadata": {},
   "outputs": [
    {
     "name": "stdout",
     "output_type": "stream",
     "text": [
      "no. of non-terminals: 3\n"
     ]
    }
   ],
   "source": [
    "#input no. of non-terminals or no. of grammar rules in compact form\n",
    "n_term= int(input('no. of non-terminals: '))"
   ]
  },
  {
   "cell_type": "code",
   "execution_count": 12,
   "id": "04ebaf65",
   "metadata": {},
   "outputs": [
    {
     "name": "stdout",
     "output_type": "stream",
     "text": [
      "Enter grammar rules: \n",
      "S->A/B\n",
      "A->a\n",
      "B->b\n"
     ]
    }
   ],
   "source": [
    "#input grammar rules\n",
    "print('Enter grammar rules: ')\n",
    "grammar_rule= list()\n",
    "for i in range(n_term):\n",
    "    rule= input()\n",
    "    grammar_rule.append(rule)"
   ]
  },
  {
   "cell_type": "code",
   "execution_count": 13,
   "id": "4d45d9b1",
   "metadata": {},
   "outputs": [
    {
     "name": "stdout",
     "output_type": "stream",
     "text": [
      "[['S', 'A/B'], ['A', 'a'], ['B', 'b']]\n"
     ]
    }
   ],
   "source": [
    "#separating lhs and rhs\n",
    "for i in range(n_term):\n",
    "    lhs,rhs= grammar_rule[i].split('->')\n",
    "    grammar_rule[i]= [lhs,rhs]\n",
    "    \n",
    "print(grammar_rule)"
   ]
  },
  {
   "cell_type": "code",
   "execution_count": 14,
   "id": "eae3f2ef",
   "metadata": {},
   "outputs": [
    {
     "name": "stdout",
     "output_type": "stream",
     "text": [
      "[['S', ['A', 'B']], ['A', ['a']], ['B', ['b']]]\n"
     ]
    }
   ],
   "source": [
    "#separating the rule for each non-terminal\n",
    "for i in range(n_term):\n",
    "    rule= grammar_rule[i][1].split('/')\n",
    "    grammar_rule[i][1]= rule\n",
    "    \n",
    "print(grammar_rule)"
   ]
  },
  {
   "cell_type": "code",
   "execution_count": 15,
   "id": "e5ed61ec",
   "metadata": {},
   "outputs": [
    {
     "name": "stdout",
     "output_type": "stream",
     "text": [
      "S->A\n",
      "S->B\n",
      "A->a\n",
      "B->b\n"
     ]
    }
   ],
   "source": [
    "#print the rules separately\n",
    "for i in range(n_term):\n",
    "    for j in range(len(grammar_rule[i][1])):\n",
    "        print(grammar_rule[i][0]+'->'+grammar_rule[i][1][j])"
   ]
  },
  {
   "cell_type": "code",
   "execution_count": 19,
   "id": "dc44d21d",
   "metadata": {},
   "outputs": [
    {
     "name": "stdout",
     "output_type": "stream",
     "text": [
      "2\n"
     ]
    }
   ],
   "source": [
    "#no. of terminals\n",
    "n_terminals= 0\n",
    "#print the rules separately\n",
    "for i in range(n_term):\n",
    "    for j in range(len(grammar_rule[i][1])):\n",
    "        if grammar_rule[i][1][j] <'A' or grammar_rule[i][1][j] > 'Z':\n",
    "            n_terminals+=1\n",
    "            \n",
    "print(n_terminals)"
   ]
  },
  {
   "cell_type": "code",
   "execution_count": null,
   "id": "80b3f7c9",
   "metadata": {},
   "outputs": [],
   "source": []
  }
 ],
 "metadata": {
  "kernelspec": {
   "display_name": "Python 3 (ipykernel)",
   "language": "python",
   "name": "python3"
  },
  "language_info": {
   "codemirror_mode": {
    "name": "ipython",
    "version": 3
   },
   "file_extension": ".py",
   "mimetype": "text/x-python",
   "name": "python",
   "nbconvert_exporter": "python",
   "pygments_lexer": "ipython3",
   "version": "3.7.11"
  }
 },
 "nbformat": 4,
 "nbformat_minor": 5
}
