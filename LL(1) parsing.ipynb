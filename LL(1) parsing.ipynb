{
 "cells": [
  {
   "cell_type": "code",
   "execution_count": 70,
   "id": "e2364644",
   "metadata": {},
   "outputs": [],
   "source": [
    "\n",
    "#Aim- To check if given string can be parsed or not by given parsing table.\n",
    "\n",
    "#Input parsing table\n",
    "#1.Input non-terminals and terminals in parsing table.\n",
    "#2. Enter grammar rule for each entry in parsing table.\n",
    "\n",
    "#Input string to be parsed\n"
   ]
  },
  {
   "cell_type": "code",
   "execution_count": 58,
   "id": "dd53ab7f",
   "metadata": {},
   "outputs": [
    {
     "name": "stdout",
     "output_type": "stream",
     "text": [
      "Enter non-terminals: S A\n",
      "Enter terminals: a b $\n"
     ]
    }
   ],
   "source": [
    "non_terminal= list(input('Enter non-terminals: ').split(' '))\n",
    "terminal= list(input('Enter terminals: ').split(' '))"
   ]
  },
  {
   "cell_type": "code",
   "execution_count": 59,
   "id": "022c2a58",
   "metadata": {},
   "outputs": [
    {
     "data": {
      "text/plain": [
       "['S', 'A']"
      ]
     },
     "execution_count": 59,
     "metadata": {},
     "output_type": "execute_result"
    }
   ],
   "source": [
    "non_terminal"
   ]
  },
  {
   "cell_type": "code",
   "execution_count": 60,
   "id": "e4d1f0e7",
   "metadata": {},
   "outputs": [
    {
     "data": {
      "text/plain": [
       "['a', 'b', '$']"
      ]
     },
     "execution_count": 60,
     "metadata": {},
     "output_type": "execute_result"
    }
   ],
   "source": [
    "terminal"
   ]
  },
  {
   "cell_type": "code",
   "execution_count": 61,
   "id": "5a4d0b82",
   "metadata": {},
   "outputs": [],
   "source": [
    "entry= dict()"
   ]
  },
  {
   "cell_type": "code",
   "execution_count": 62,
   "id": "dfcde5fa",
   "metadata": {},
   "outputs": [
    {
     "name": "stdout",
     "output_type": "stream",
     "text": [
      "Taking each entry in parsing table from user\n"
     ]
    }
   ],
   "source": [
    "print('Taking each entry in parsing table from user')"
   ]
  },
  {
   "cell_type": "code",
   "execution_count": 63,
   "id": "c16cb322",
   "metadata": {},
   "outputs": [
    {
     "name": "stdout",
     "output_type": "stream",
     "text": [
      "S,a AA\n",
      "S,b AA\n",
      "S,$  \n",
      "A,a aA\n",
      "A,b b\n",
      "A,$  \n"
     ]
    }
   ],
   "source": [
    "for i in range(len(non_terminal)):\n",
    "    for j in range(len(terminal)):\n",
    "        entry[(non_terminal[i],terminal[j])]= input(f'{non_terminal[i]},{terminal[j]} ')"
   ]
  },
  {
   "cell_type": "code",
   "execution_count": 64,
   "id": "7005b3c4",
   "metadata": {},
   "outputs": [
    {
     "data": {
      "text/plain": [
       "{('S', 'a'): 'AA',\n",
       " ('S', 'b'): 'AA',\n",
       " ('S', '$'): ' ',\n",
       " ('A', 'a'): 'aA',\n",
       " ('A', 'b'): 'b',\n",
       " ('A', '$'): ' '}"
      ]
     },
     "execution_count": 64,
     "metadata": {},
     "output_type": "execute_result"
    }
   ],
   "source": [
    "entry\n",
    "#here space in parsing table shows no entry"
   ]
  },
  {
   "cell_type": "code",
   "execution_count": 66,
   "id": "1154731d",
   "metadata": {},
   "outputs": [
    {
     "name": "stdout",
     "output_type": "stream",
     "text": [
      "Enter string: abab\n"
     ]
    }
   ],
   "source": [
    "#input string to be parsed\n",
    "string= input(\"Enter string: \")"
   ]
  },
  {
   "cell_type": "code",
   "execution_count": 67,
   "id": "03b76cbb",
   "metadata": {},
   "outputs": [],
   "source": [
    "#by default $ is added at the end of the string\n",
    "string= string+'$'"
   ]
  },
  {
   "cell_type": "code",
   "execution_count": 68,
   "id": "75570cde",
   "metadata": {},
   "outputs": [],
   "source": [
    "#this list will work as stack\n",
    "#here $ is the default value in stack\n",
    "#S is the starting symbol\n",
    "stack= ['$','S']"
   ]
  },
  {
   "cell_type": "code",
   "execution_count": 69,
   "id": "7ab3456e",
   "metadata": {},
   "outputs": [
    {
     "name": "stdout",
     "output_type": "stream",
     "text": [
      "Given input string can be parsed using given parsing table.\n"
     ]
    }
   ],
   "source": [
    "#lookahead pointer\n",
    "#pointing to first character in input string\n",
    "pointer= 0\n",
    "\n",
    "flag= 0\n",
    "while pointer<len(string) and stack[-1]!='$' and string[pointer]!='$':\n",
    "    \n",
    "    #if value at top of stack and character pointed by\n",
    "    #pointer are same\n",
    "    #then perform pop operation on stack\n",
    "    #and increase the value of pointer by 1\n",
    "    if stack[-1]==string[pointer]:\n",
    "        stack.pop()\n",
    "        pointer+= 1\n",
    "        #print(stack, pointer)\n",
    "    \n",
    "    else:\n",
    "        value= entry[(stack[-1],string[pointer])]\n",
    "        #check if entry exists in parsing table\n",
    "        if value!=' ':\n",
    "            #pop stack once\n",
    "            stack.pop()\n",
    "            \n",
    "            #append the entry in parsing table to stack \n",
    "            #from right to left\n",
    "            for i in range(len(value)-1,-1,-1):\n",
    "                stack.append(value[i])\n",
    "            #print(stack)\n",
    "        else:\n",
    "            print('Given input string can not be parsed using given parsing table.')\n",
    "            flag= 1\n",
    "            break\n",
    "\n",
    "if flag==0:\n",
    "    print('Given input string can be parsed using given parsing table.')"
   ]
  }
 ],
 "metadata": {
  "kernelspec": {
   "display_name": "Python 3 (ipykernel)",
   "language": "python",
   "name": "python3"
  },
  "language_info": {
   "codemirror_mode": {
    "name": "ipython",
    "version": 3
   },
   "file_extension": ".py",
   "mimetype": "text/x-python",
   "name": "python",
   "nbconvert_exporter": "python",
   "pygments_lexer": "ipython3",
   "version": "3.7.11"
  }
 },
 "nbformat": 4,
 "nbformat_minor": 5
}
